{
  "nbformat": 4,
  "nbformat_minor": 0,
  "metadata": {
    "colab": {
      "provenance": [],
      "authorship_tag": "ABX9TyOPG9lcOzRLorvArZoNiVTy",
      "include_colab_link": true
    },
    "kernelspec": {
      "name": "python3",
      "display_name": "Python 3"
    },
    "language_info": {
      "name": "python"
    }
  },
  "cells": [
    {
      "cell_type": "markdown",
      "metadata": {
        "id": "view-in-github",
        "colab_type": "text"
      },
      "source": [
        "<a href=\"https://colab.research.google.com/github/jawwadturk/CodSoft-Internship-Task1/blob/main/AI_Assignment01.ipynb\" target=\"_parent\"><img src=\"https://colab.research.google.com/assets/colab-badge.svg\" alt=\"Open In Colab\"/></a>"
      ]
    },
    {
      "cell_type": "code",
      "execution_count": 1,
      "metadata": {
        "id": "KHp0Sf_Wytwf"
      },
      "outputs": [],
      "source": [
        "from sklearn.datasets import fetch_openml\n",
        "from sklearn.model_selection import train_test_split\n",
        "from sklearn.linear_model import LogisticRegression\n",
        "from sklearn.svm import SVC\n",
        "from sklearn.ensemble import RandomForestClassifier\n",
        "from sklearn.naive_bayes import GaussianNB\n",
        "from sklearn.metrics import accuracy_score"
      ]
    },
    {
      "cell_type": "markdown",
      "source": [
        "# Load the dataset"
      ],
      "metadata": {
        "id": "3IPw847k66PS"
      }
    },
    {
      "cell_type": "code",
      "source": [
        "data = fetch_openml(name='spambase', version=1)"
      ],
      "metadata": {
        "colab": {
          "base_uri": "https://localhost:8080/"
        },
        "id": "ZENbC59My2A6",
        "outputId": "f48487b9-5285-4f9d-d82d-0e86264dd691"
      },
      "execution_count": 2,
      "outputs": [
        {
          "output_type": "stream",
          "name": "stderr",
          "text": [
            "/usr/local/lib/python3.10/dist-packages/sklearn/datasets/_openml.py:968: FutureWarning: The default value of `parser` will change from `'liac-arff'` to `'auto'` in 1.4. You can set `parser='auto'` to silence this warning. Therefore, an `ImportError` will be raised from 1.4 if the dataset is dense and pandas is not installed. Note that the pandas parser may return different data types. See the Notes Section in fetch_openml's API doc for details.\n",
            "  warn(\n"
          ]
        }
      ]
    },
    {
      "cell_type": "markdown",
      "source": [
        "# Split data into features (X) and labels (y)"
      ],
      "metadata": {
        "id": "BLVgCT_M523N"
      }
    },
    {
      "cell_type": "code",
      "source": [
        "X, y = data.data, data.target.astype(int)"
      ],
      "metadata": {
        "id": "l6dXlfwvy-rf"
      },
      "execution_count": 3,
      "outputs": []
    },
    {
      "cell_type": "markdown",
      "source": [
        "# Step 2: Split the Data"
      ],
      "metadata": {
        "id": "E4AKnJO86V8u"
      }
    },
    {
      "cell_type": "code",
      "source": [
        "X_train, X_test, y_train, y_test = train_test_split(X, y, test_size=0.2, random_state=42)"
      ],
      "metadata": {
        "id": "8K2hQTeAzFwN"
      },
      "execution_count": 4,
      "outputs": []
    },
    {
      "cell_type": "markdown",
      "source": [
        "# Step 3: Apply Various Classification Methods\n",
        "# Method 1: Logistic Regression"
      ],
      "metadata": {
        "id": "ezPeGOZ46fug"
      }
    },
    {
      "cell_type": "code",
      "source": [
        "lr_model = LogisticRegression(max_iter=1000)\n",
        "lr_model.fit(X_train, y_train)\n",
        "lr_train_accuracy = accuracy_score(y_train, lr_model.predict(X_train))\n",
        "lr_test_accuracy = accuracy_score(y_test, lr_model.predict(X_test))"
      ],
      "metadata": {
        "colab": {
          "base_uri": "https://localhost:8080/"
        },
        "id": "6r_dkfGpzJLu",
        "outputId": "ddbe86c7-fbcf-43ff-fd48-86cec70463c9"
      },
      "execution_count": 5,
      "outputs": [
        {
          "output_type": "stream",
          "name": "stderr",
          "text": [
            "/usr/local/lib/python3.10/dist-packages/sklearn/linear_model/_logistic.py:458: ConvergenceWarning: lbfgs failed to converge (status=1):\n",
            "STOP: TOTAL NO. of ITERATIONS REACHED LIMIT.\n",
            "\n",
            "Increase the number of iterations (max_iter) or scale the data as shown in:\n",
            "    https://scikit-learn.org/stable/modules/preprocessing.html\n",
            "Please also refer to the documentation for alternative solver options:\n",
            "    https://scikit-learn.org/stable/modules/linear_model.html#logistic-regression\n",
            "  n_iter_i = _check_optimize_result(\n"
          ]
        }
      ]
    },
    {
      "cell_type": "markdown",
      "source": [
        "# Method 2: Support Vector Machine (SVM)"
      ],
      "metadata": {
        "id": "nAN8WXOm6ktg"
      }
    },
    {
      "cell_type": "code",
      "source": [
        "svm_model = SVC()\n",
        "svm_model.fit(X_train, y_train)\n",
        "svm_train_accuracy = accuracy_score(y_train, svm_model.predict(X_train))\n",
        "svm_test_accuracy = accuracy_score(y_test, svm_model.predict(X_test))"
      ],
      "metadata": {
        "id": "UQpxo0q0zPCX"
      },
      "execution_count": 6,
      "outputs": []
    },
    {
      "cell_type": "markdown",
      "source": [
        "# Method 3: Random Forest"
      ],
      "metadata": {
        "id": "4nKKhyky6oJD"
      }
    },
    {
      "cell_type": "code",
      "source": [
        "rf_model = RandomForestClassifier()\n",
        "rf_model.fit(X_train, y_train)\n",
        "rf_train_accuracy = accuracy_score(y_train, rf_model.predict(X_train))\n",
        "rf_test_accuracy = accuracy_score(y_test, rf_model.predict(X_test))"
      ],
      "metadata": {
        "id": "-B6h1rUpzYKM"
      },
      "execution_count": 7,
      "outputs": []
    },
    {
      "cell_type": "markdown",
      "source": [
        "# Method 4: Naive Bayes"
      ],
      "metadata": {
        "id": "di7fxjsy6ryX"
      }
    },
    {
      "cell_type": "code",
      "source": [
        "nb_model = GaussianNB()\n",
        "nb_model.fit(X_train, y_train)\n",
        "nb_train_accuracy = accuracy_score(y_train, nb_model.predict(X_train))\n",
        "nb_test_accuracy = accuracy_score(y_test, nb_model.predict(X_test))"
      ],
      "metadata": {
        "id": "aeii4Q4szbM3"
      },
      "execution_count": 8,
      "outputs": []
    },
    {
      "cell_type": "markdown",
      "source": [
        "# Step 4: Compare Results"
      ],
      "metadata": {
        "id": "WQIVOEVk6u2_"
      }
    },
    {
      "cell_type": "code",
      "source": [
        "results = {\n",
        "    'Logistic Regression': (lr_train_accuracy, lr_test_accuracy),\n",
        "    'SVM': (svm_train_accuracy, svm_test_accuracy),\n",
        "    'Random Forest': (rf_train_accuracy, rf_test_accuracy),\n",
        "    'Naive Bayes': (nb_train_accuracy, nb_test_accuracy)\n",
        "}"
      ],
      "metadata": {
        "id": "cVywLb2hzdbq"
      },
      "execution_count": 9,
      "outputs": []
    },
    {
      "cell_type": "markdown",
      "source": [
        "# Print results"
      ],
      "metadata": {
        "id": "79nEYWzA60cH"
      }
    },
    {
      "cell_type": "code",
      "source": [
        "for method, (train_acc, test_acc) in results.items():\n",
        "    print(f\"{method} - Training Accuracy: {train_acc:.4f}, Testing Accuracy: {test_acc:.4f}\")"
      ],
      "metadata": {
        "colab": {
          "base_uri": "https://localhost:8080/"
        },
        "id": "Ra3wmH9azfeQ",
        "outputId": "8f7fad3d-2b9a-4905-f08c-1d47b4a7c52d"
      },
      "execution_count": 10,
      "outputs": [
        {
          "output_type": "stream",
          "name": "stdout",
          "text": [
            "Logistic Regression - Training Accuracy: 0.9307, Testing Accuracy: 0.9197\n",
            "SVM - Training Accuracy: 0.7136, Testing Accuracy: 0.6623\n",
            "Random Forest - Training Accuracy: 0.9995, Testing Accuracy: 0.9566\n",
            "Naive Bayes - Training Accuracy: 0.8220, Testing Accuracy: 0.8208\n"
          ]
        }
      ]
    },
    {
      "cell_type": "markdown",
      "source": [
        "**Based on the provided results, the Random Forest method has the highest testing accuracy (0.9522), followed by Logistic Regression (0.9197), Naive Bayes (0.8208), and SVM (0.6623).**"
      ],
      "metadata": {
        "id": "67GIumA0zlHR"
      }
    }
  ]
}